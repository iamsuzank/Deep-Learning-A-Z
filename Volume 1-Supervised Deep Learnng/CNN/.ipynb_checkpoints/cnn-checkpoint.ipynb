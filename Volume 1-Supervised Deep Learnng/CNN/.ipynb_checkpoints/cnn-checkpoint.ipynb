{
 "cells": [
  {
   "cell_type": "markdown",
   "metadata": {},
   "source": [
    "### Building CNN"
   ]
  },
  {
   "cell_type": "code",
   "execution_count": 2,
   "metadata": {},
   "outputs": [],
   "source": [
    "# import libraries\n",
    "from keras.models import Sequential\n",
    "from keras.layers import Conv2D\n",
    "from keras.layers import MaxPool2D\n",
    "from keras.layers import Flatten\n",
    "from keras.layers import Dense\n",
    "from PIL import Image\n",
    "from keras.optimizers import adam\n",
    "from keras.utils.vis_utils import plot_model\n",
    "from keras.callbacks import ModelCheckpoint\n",
    "import matplotlib.pyplot as plt\n",
    "import os\n",
    "from imutils import paths"
   ]
  },
  {
   "cell_type": "code",
   "execution_count": 3,
   "metadata": {},
   "outputs": [],
   "source": [
    "# initialising the CNN\n",
    "classifier=Sequential()\n",
    "\n",
    "# Step 1-Convolution\n",
    "classifier.add(Conv2D(32, (3, 3), input_shape=(100, 100, 3), activation=\"relu\"))\n",
    "# classifying image is non linear problem so if we use Relu then it replace the negative pixels with zeros and brings non linearity\n",
    "\n",
    "# Step 2-Maxpooling\n",
    "# Used to reduce the size of feature maps to improve computational performance\n",
    "classifier.add(MaxPool2D(pool_size=(2,2)))\n",
    "\n",
    "# Adding Second Convolution layer\n",
    "classifier.add(Conv2D(32, (3, 3), activation=\"relu\"))\n",
    "classifier.add(MaxPool2D(pool_size=(2,2)))\n",
    "\n",
    "# Adding Third Convolution layer\n",
    "classifier.add(Conv2D(64, (3, 3), activation=\"relu\"))\n",
    "classifier.add(MaxPool2D(pool_size=(2,2)))\n",
    "\n",
    "# Step 3-Flattening\n",
    "# Used to convert all the feature maps into a huge single(1D) vector\n",
    "classifier.add(Flatten())\n",
    "\n",
    "# Step 4-Full Connection\n",
    "classifier.add(Dense(units=128,activation='relu'))\n",
    "classifier.add(Dense(units=64,activation='relu'))\n",
    "classifier.add(Dense(units=1,activation='sigmoid'))\n",
    "# 128 is choosen as a common practise"
   ]
  },
  {
   "cell_type": "markdown",
   "metadata": {},
   "source": [
    "<img src='cnn_arc.jpg'/>"
   ]
  },
  {
   "cell_type": "code",
   "execution_count": 16,
   "metadata": {},
   "outputs": [],
   "source": [
    "# Compiling the CNN\n",
    "INIT_LR=1e-2\n",
    "NUM_EPOCHS=15\n",
    "BS=32\n",
    "# opt = adam(lr=INIT_LR, decay=INIT_LR / NUM_EPOCHS)\n",
    "classifier.compile(optimizer='adam',\n",
    "                   loss='binary_crossentropy',\n",
    "                   metrics=['accuracy'])\n"
   ]
  },
  {
   "cell_type": "code",
   "execution_count": 17,
   "metadata": {},
   "outputs": [],
   "source": [
    "# from keras.utils.vis_utils import plot_model \n",
    "# plot_model(classifier, to_file='cnn_model.png', show_shapes=True, show_layer_names=True)\n",
    "# display(Image.open('cnn_model.png'))\n",
    "# ! pip install pydot"
   ]
  },
  {
   "cell_type": "markdown",
   "metadata": {},
   "source": [
    "### Fitting the CNN to the Images"
   ]
  },
  {
   "cell_type": "code",
   "execution_count": 18,
   "metadata": {},
   "outputs": [
    {
     "name": "stdout",
     "output_type": "stream",
     "text": [
      "2800\n",
      "600\n"
     ]
    }
   ],
   "source": [
    "from imutils import paths\n",
    "root_dir = os.path.dirname('F:/DATASETS/')\n",
    "train_dir = os.path.join(root_dir, 'CatDog/training/')\n",
    "test_dir = os.path.join(root_dir, 'CatDog/testing/')\n",
    "totalTrain = len(list(paths.list_images(train_dir)))\n",
    "totalTest=len(list(paths.list_images(test_dir)))\n",
    "print(totalTrain)\n",
    "print(totalTest)\n",
    "# train_dir='F:/DATASETS/CatDog/training/'\n",
    "# test_dir='F:/DATASETS/CatDog/testing/'"
   ]
  },
  {
   "cell_type": "code",
   "execution_count": 19,
   "metadata": {},
   "outputs": [
    {
     "name": "stdout",
     "output_type": "stream",
     "text": [
      "Found 2800 images belonging to 2 classes.\n",
      "Found 600 images belonging to 2 classes.\n"
     ]
    }
   ],
   "source": [
    "from keras.preprocessing.image import ImageDataGenerator\n",
    "\n",
    "train_datagen = ImageDataGenerator(rescale = 1./255,\n",
    "                                   shear_range = 0.2,\n",
    "                                   zoom_range = 0.2,\n",
    "                                   horizontal_flip = True)\n",
    "\n",
    "test_datagen = ImageDataGenerator(rescale = 1./255)\n",
    "\n",
    "training_set = train_datagen.flow_from_directory(train_dir,\n",
    "                                                 target_size = (100, 100),\n",
    "                                                 batch_size = BS,\n",
    "                                                 class_mode = 'binary')\n",
    "\n",
    "test_set = test_datagen.flow_from_directory(test_dir,\n",
    "                                            target_size = (100,100),\n",
    "                                            batch_size = BS,\n",
    "                                            class_mode = 'binary')\n"
   ]
  },
  {
   "cell_type": "code",
   "execution_count": 20,
   "metadata": {},
   "outputs": [
    {
     "name": "stdout",
     "output_type": "stream",
     "text": [
      "Epoch 1/15\n",
      "88/87 [==============================] - 58s 654ms/step - loss: 0.6941 - accuracy: 0.5150 - val_loss: 0.7223 - val_accuracy: 0.5000\n",
      "Epoch 2/15\n",
      " 1/87 [..............................] - ETA: 12s - loss: 0.6877 - accuracy: 0.5312"
     ]
    },
    {
     "name": "stderr",
     "output_type": "stream",
     "text": [
      "C:\\ProgramData\\Anaconda3\\lib\\site-packages\\keras\\callbacks\\callbacks.py:707: RuntimeWarning: Can save best model only with val_acc available, skipping.\n",
      "  'skipping.' % (self.monitor), RuntimeWarning)\n"
     ]
    },
    {
     "name": "stdout",
     "output_type": "stream",
     "text": [
      "88/87 [==============================] - 22s 250ms/step - loss: 0.6824 - accuracy: 0.5582 - val_loss: 0.8185 - val_accuracy: 0.5650\n",
      "Epoch 3/15\n",
      "88/87 [==============================] - 25s 283ms/step - loss: 0.6770 - accuracy: 0.5739 - val_loss: 0.6806 - val_accuracy: 0.6100\n",
      "Epoch 4/15\n",
      "88/87 [==============================] - 25s 283ms/step - loss: 0.6504 - accuracy: 0.6168 - val_loss: 0.6694 - val_accuracy: 0.5983\n",
      "Epoch 5/15\n",
      "88/87 [==============================] - 25s 281ms/step - loss: 0.6303 - accuracy: 0.6379 - val_loss: 0.6493 - val_accuracy: 0.6517\n",
      "Epoch 6/15\n",
      "88/87 [==============================] - 25s 283ms/step - loss: 0.6002 - accuracy: 0.6718 - val_loss: 0.7228 - val_accuracy: 0.6300\n",
      "Epoch 7/15\n",
      "88/87 [==============================] - 25s 284ms/step - loss: 0.5874 - accuracy: 0.6914 - val_loss: 0.5314 - val_accuracy: 0.6817\n",
      "Epoch 8/15\n",
      "88/87 [==============================] - 26s 296ms/step - loss: 0.5543 - accuracy: 0.7082 - val_loss: 0.6136 - val_accuracy: 0.6517\n",
      "Epoch 9/15\n",
      "88/87 [==============================] - 25s 285ms/step - loss: 0.5265 - accuracy: 0.7268 - val_loss: 0.4633 - val_accuracy: 0.7283\n",
      "Epoch 10/15\n",
      "88/87 [==============================] - 25s 281ms/step - loss: 0.5254 - accuracy: 0.7379 - val_loss: 0.4037 - val_accuracy: 0.7133\n",
      "Epoch 11/15\n",
      "88/87 [==============================] - 25s 281ms/step - loss: 0.4916 - accuracy: 0.7625 - val_loss: 0.6747 - val_accuracy: 0.7417\n",
      "Epoch 12/15\n",
      "88/87 [==============================] - 25s 282ms/step - loss: 0.4724 - accuracy: 0.7789 - val_loss: 0.4206 - val_accuracy: 0.7517\n",
      "Epoch 13/15\n",
      "88/87 [==============================] - 25s 281ms/step - loss: 0.4610 - accuracy: 0.7671 - val_loss: 0.5202 - val_accuracy: 0.7550\n",
      "Epoch 14/15\n",
      "88/87 [==============================] - 25s 281ms/step - loss: 0.4422 - accuracy: 0.7918 - val_loss: 0.5779 - val_accuracy: 0.7517\n",
      "Epoch 15/15\n",
      "88/87 [==============================] - 24s 278ms/step - loss: 0.4190 - accuracy: 0.8061 - val_loss: 0.6979 - val_accuracy: 0.7350\n",
      "dict_keys(['val_loss', 'val_accuracy', 'loss', 'accuracy'])\n"
     ]
    }
   ],
   "source": [
    "filepath = \"best_model.hdf5\"\n",
    "checkpoint = ModelCheckpoint(filepath, monitor='val_acc', verbose=1, save_best_only=True, mode='max')\n",
    "history = classifier.fit_generator(training_set,\n",
    "                         steps_per_epoch = (totalTrain /BS),\n",
    "                         epochs = NUM_EPOCHS,\n",
    "                         validation_data = test_set,\n",
    "                         validation_steps = totalTest/ BS,\n",
    "                         callbacks = [checkpoint])\n",
    "print(history.history.keys())"
   ]
  },
  {
   "cell_type": "markdown",
   "metadata": {},
   "source": [
    "### Saving Classifier:`"
   ]
  },
  {
   "cell_type": "code",
   "execution_count": 21,
   "metadata": {},
   "outputs": [
    {
     "name": "stdout",
     "output_type": "stream",
     "text": [
      "[INFO]:Classifier saved to F:/DATASETS\\cat_or_dogs_model_new.h5\n"
     ]
    }
   ],
   "source": [
    "model_backup_path = os.path.join(root_dir, 'cat_or_dogs_model_new.h5')\n",
    "classifier.save(model_backup_path)\n",
    "print(\"[INFO]:Classifier saved to\", model_backup_path)"
   ]
  },
  {
   "cell_type": "code",
   "execution_count": 22,
   "metadata": {},
   "outputs": [
    {
     "data": {
      "image/png": "[encoded data removed]",
      "text/plain": [
       "<Figure size 432x288 with 1 Axes>"
      ]
     },
     "metadata": {
      "needs_background": "light"
     },
     "output_type": "display_data"
    },
    {
     "data": {
      "image/png": "[encoded data removed]",
      "text/plain": [
       "<Figure size 432x288 with 1 Axes>"
      ]
     },
     "metadata": {
      "needs_background": "light"
     },
     "output_type": "display_data"
    }
   ],
   "source": [
    "# Plot training & validation accuracy values\n",
    "plt.plot(history.history['accuracy'])\n",
    "plt.plot(history.history['val_accuracy'])\n",
    "plt.title('Model accuracy')\n",
    "plt.ylabel('Accuracy')\n",
    "plt.xlabel('Epoch')\n",
    "plt.legend(['Train', 'Test'], loc='upper left')\n",
    "plt.show()\n",
    "\n",
    "# Plot training & validation loss values\n",
    "plt.plot(history.history['loss'])\n",
    "plt.plot(history.history['val_loss'])\n",
    "plt.title('Model loss')\n",
    "plt.ylabel('Loss')\n",
    "plt.xlabel('Epochs')\n",
    "plt.legend(['Train', 'Test'], loc='upper left')\n",
    "plt.show()"
   ]
  },
  {
   "cell_type": "markdown",
   "metadata": {},
   "source": [
    "### Loading Classifier and Making New Prediction:"
   ]
  },
  {
   "cell_type": "code",
   "execution_count": 27,
   "metadata": {},
   "outputs": [
    {
     "name": "stdout",
     "output_type": "stream",
     "text": [
      "(100, 100, 3)\n",
      "(1, 100, 100, 3)\n",
      "[[0.]]\n",
      "{'cats': 0, 'dogs': 1}\n"
     ]
    }
   ],
   "source": [
    "from keras.models import load_model\n",
    "import numpy as np\n",
    "from keras.preprocessing import image\n",
    "test_image = image.load_img('prediction/cat_dog_4.jpg', target_size = (100,100))\n",
    "test_image = image.img_to_array(test_image)\n",
    "print(test_image.shape)\n",
    "# predict function expects input image to have 4 dimension but we have only 3 i.e.100X00X3\n",
    "#predict function cant accept a single input by itself \n",
    "# it only accept image in a batch evenif the batch contains single image\n",
    "# so we need to expand dimension from 3 to 4 of the image to predict\n",
    "test_image = np.expand_dims(test_image, axis = 0)\n",
    "print(test_image.shape)\n",
    "# axis=0 means add new dimension in the first position\n",
    "# the new dimension we have just created corrospends to batch\n",
    "model = load_model(model_backup_path)#Loading classifier\n",
    "result = model.predict(test_image)\n",
    "print(result)\n",
    "print(training_set.class_indices)"
   ]
  },
  {
   "cell_type": "code",
   "execution_count": 28,
   "metadata": {},
   "outputs": [
    {
     "name": "stdout",
     "output_type": "stream",
     "text": [
      "[INFO]:The Prediction is a cat\n"
     ]
    }
   ],
   "source": [
    "if result[0][0] == 1:\n",
    "    prediction = 'dog'\n",
    "else:\n",
    "    prediction = 'cat'\n",
    "print('[INFO]:The Prediction is a {}'.format(prediction))"
   ]
  },
  {
   "cell_type": "code",
   "execution_count": null,
   "metadata": {},
   "outputs": [],
   "source": []
  },
  {
   "cell_type": "code",
   "execution_count": null,
   "metadata": {},
   "outputs": [],
   "source": []
  }
 ],
 "metadata": {
  "kernelspec": {
   "display_name": "Python 3",
   "language": "python",
   "name": "python3"
  },
  "language_info": {
   "codemirror_mode": {
    "name": "ipython",
    "version": 3
   },
   "file_extension": ".py",
   "mimetype": "text/x-python",
   "name": "python",
   "nbconvert_exporter": "python",
   "pygments_lexer": "ipython3",
   "version": "3.7.4"
  }
 },
 "nbformat": 4,
 "nbformat_minor": 2
}
