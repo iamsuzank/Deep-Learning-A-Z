{
 "cells": [
  {
   "cell_type": "markdown",
   "metadata": {},
   "source": [
    "## SOM:"
   ]
  },
  {
   "cell_type": "markdown",
   "metadata": {},
   "source": [
    "<img src='som_algo.JPG'/>\n"
   ]
  },
  {
   "cell_type": "markdown",
   "metadata": {},
   "source": [
    "<img src='som0.JPG'/>\n"
   ]
  },
  {
   "cell_type": "markdown",
   "metadata": {},
   "source": [
    "* Weights are not multiplied to the inputs \n",
    "* SOM doesnt have activation function\n",
    "* weights are the characteristics of nde itself"
   ]
  },
  {
   "cell_type": "markdown",
   "metadata": {},
   "source": [
    "<img src='som1.JPG'/>"
   ]
  },
  {
   "cell_type": "markdown",
   "metadata": {},
   "source": [
    "* Weights(W11,W12,W13) are the co-ordinate of the node in input space\n",
    "* No of weights on output node is equal to the no of input nodes\n"
   ]
  },
  {
   "cell_type": "markdown",
   "metadata": {},
   "source": [
    "<img src='som3.JPG'/>"
   ]
  },
  {
   "cell_type": "markdown",
   "metadata": {},
   "source": [
    "* The distance between each output node and input nodes is calculated  "
   ]
  },
  {
   "cell_type": "markdown",
   "metadata": {},
   "source": [
    "<img src='som4.JPG'/>"
   ]
  },
  {
   "cell_type": "markdown",
   "metadata": {},
   "source": [
    "* After calculating all the distance between the input row(input node) and output node the shortest distance is choosen as best matching unit\n",
    "* Here nodde3 is the Best Matching Unit(BMU)"
   ]
  },
  {
   "cell_type": "markdown",
   "metadata": {},
   "source": [
    "<img src='som5.JPG'/>"
   ]
  },
  {
   "cell_type": "markdown",
   "metadata": {},
   "source": [
    "* All the red nodes are the output nodes and the green node is node having shortest distance with the input nodes\n",
    "* Green node is the best matching unit(BMU)\n",
    "* Weights of the **BMU** is updated in such a way that its distance with the input nodes become even closer\n",
    "* Reason for updating the weights is we dont have control over our inputs and we cant change our dataset to reduce the distance between input node and output node\n",
    "* By Using **Distance Formula** we can reduce the distance between input node and BMU by changing the weights of BMU"
   ]
  },
  {
   "cell_type": "markdown",
   "metadata": {},
   "source": [
    "<img src='som6.JPG'/>"
   ]
  },
  {
   "cell_type": "markdown",
   "metadata": {},
   "source": [
    "* When the weights of **BMU** is updated then weights of all nodes within its radius also got updated \n",
    "* Closer the nodes to the **BMU**,weights are updated more \n",
    "* weights of nodes that are in black rectangle are updated more than nodes in blue rectangle and yellow circle"
   ]
  },
  {
   "cell_type": "markdown",
   "metadata": {},
   "source": [
    "<img src=som7.JPG/>\n",
    "<img src=som9.JPG/>\n",
    "<img src=som8.JPG/>\n"
   ]
  },
  {
   "cell_type": "markdown",
   "metadata": {},
   "source": [
    "* Blue node is the **BMU** of second row of input nodes so all the nodes within its radius aslo got updated\n",
    "* But there is conflict while updating the weight\n"
   ]
  },
  {
   "cell_type": "markdown",
   "metadata": {},
   "source": [
    "<img src='som10.JPG'/>"
   ]
  },
  {
   "cell_type": "markdown",
   "metadata": {},
   "source": [
    "<img src='som10.1.JPG'/>"
   ]
  },
  {
   "cell_type": "markdown",
   "metadata": {},
   "source": [
    "* While updating the weights of nodes the radius of the **BMU** got smaller and smaller\n",
    "* The conflict is resolved by updating the weight of nodes in such a way that nodes which  are closer to **Orange BMU** than **Blue BMU** are affected more by Orange BMU than Blue BMU\n"
   ]
  },
  {
   "cell_type": "markdown",
   "metadata": {},
   "source": [
    "<img src='som0.1.JPG'/>"
   ]
  },
  {
   "cell_type": "markdown",
   "metadata": {},
   "source": [
    " * Nodes are affected more by the BMU which is closer to them than the BMU whic is farther\n",
    " * SOM learns in a cohorent manner"
   ]
  },
  {
   "cell_type": "markdown",
   "metadata": {},
   "source": [
    "<img src='som0.2.JPG'/>"
   ]
  },
  {
   "cell_type": "markdown",
   "metadata": {},
   "source": [
    "<img src='som.JPG'/>"
   ]
  },
  {
   "cell_type": "markdown",
   "metadata": {},
   "source": [
    "<img src='conclusion.JPG'/>"
   ]
  },
  {
   "cell_type": "code",
   "execution_count": null,
   "metadata": {},
   "outputs": [],
   "source": []
  }
 ],
 "metadata": {
  "kernelspec": {
   "display_name": "Python 3",
   "language": "python",
   "name": "python3"
  },
  "language_info": {
   "codemirror_mode": {
    "name": "ipython",
    "version": 3
   },
   "file_extension": ".py",
   "mimetype": "text/x-python",
   "name": "python",
   "nbconvert_exporter": "python",
   "pygments_lexer": "ipython3",
   "version": "3.7.4"
  }
 },
 "nbformat": 4,
 "nbformat_minor": 2
}
