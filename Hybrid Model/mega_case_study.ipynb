{
 "cells": [
  {
   "cell_type": "markdown",
   "metadata": {},
   "source": [
    "## Make a Hybrid Deep Learning Model$"
   ]
  },
  {
   "cell_type": "markdown",
   "metadata": {},
   "source": [
    "### Part 1 - *Identify the Fraud with the Self-Organizing Map*"
   ]
  },
  {
   "cell_type": "code",
   "execution_count": 4,
   "metadata": {},
   "outputs": [
    {
     "data": {
      "image/png": "[encoded data removed]",
      "text/plain": [
       "<Figure size 432x288 with 2 Axes>"
      ]
     },
     "metadata": {
      "needs_background": "light"
     },
     "output_type": "display_data"
    }
   ],
   "source": [
    "# importing libraries\n",
    "import numpy as np\n",
    "import matplotlib.pyplot as plt\n",
    "import pandas as pd\n",
    "\n",
    "# importing the dataset\n",
    "dataset=pd.read_csv('Credit_Card_Applications.csv')\n",
    "# dataset.head()\n",
    "X=dataset.iloc[:,:-1]\n",
    "y=dataset.iloc[:,-1]\n",
    "# y\n",
    "\n",
    "# Feature Scaling\n",
    "from sklearn.preprocessing import MinMaxScaler\n",
    "sc=MinMaxScaler(feature_range=(0,1))\n",
    "X=sc.fit_transform(X)#normalization\n",
    "# X\n",
    "\n",
    "# Training the SOM\n",
    "from minisom import MiniSom\n",
    "som=MiniSom(x=10,y=10,input_len=15,sigma=1.0,learning_rate=0.5)\n",
    "# input_len=no of columns in X\n",
    "# sigma=radius of the  NEIGHBOURHOOD\n",
    "som.random_weights_init(X)\n",
    "som.train_random(data=X,num_iteration=100)\n",
    "\n",
    "# Visualizing the results\n",
    "from pylab import bone, pcolor, colorbar, plot, show\n",
    "bone()\n",
    "pcolor(som.distance_map().T)\n",
    "colorbar()\n",
    "# winning node with highiest MID have white color and they are the outlier\n",
    "# Winning node with lowest MID have dark color\n",
    "\n",
    "markers=['o','s']\n",
    "colors=['r','g']\n",
    "# o for customer who dont get approval,\n",
    "# s(square) for customer who  get approval\n",
    "#r for customer who dont get approval,\n",
    "# g for customer who  get approval\n",
    "# i is the index of the customer(0,1,2......689)\n",
    "# x is the corresponding vector of the customer(input features of the customer like A1,A2...A14)\n",
    "# x is the X \n",
    "for i,x in enumerate(X):\n",
    "    w=som.winner(x)#find the winning node for input customer\n",
    "    plot(\n",
    "        w[0]+0.5,#w[0] is X-coordinate\n",
    "        w[1]+0.5,#w[1] is y-coordinate\n",
    "        markers[y[i]],#value of y[i] is either 0 or 1\n",
    "        markeredgecolor=colors[y[i]],\n",
    "        markerfacecolor='None',\n",
    "        markersize=10,\n",
    "        markeredgewidth=2\n",
    "        )\n",
    "show()"
   ]
  },
  {
   "cell_type": "code",
   "execution_count": 9,
   "metadata": {},
   "outputs": [
    {
     "data": {
      "text/plain": [
       "54"
      ]
     },
     "execution_count": 9,
     "metadata": {},
     "output_type": "execute_result"
    }
   ],
   "source": [
    "# Finding the frauds\n",
    "mappings=som.win_map(X)\n",
    "# find the list of customers associated with the white winning nodes or fraud\n",
    "frauds=np.concatenate((mappings[(8,1)],mappings[(5,6)],mappings[(6,2)]),axis=0)\n",
    "frauds=sc.inverse_transform(frauds)\n",
    "len(frauds)"
   ]
  },
  {
   "cell_type": "markdown",
   "metadata": {},
   "source": [
    "### Part 2 - Going from Unsupervised to Supervised Deep Learning"
   ]
  },
  {
   "cell_type": "code",
   "execution_count": 25,
   "metadata": {},
   "outputs": [
    {
     "data": {
      "text/plain": [
       "(690, 15)"
      ]
     },
     "execution_count": 25,
     "metadata": {},
     "output_type": "execute_result"
    }
   ],
   "source": [
    "# Creating the matrix of features\n",
    "customers=dataset.iloc[:,1:].values#this is input for ann\n",
    "# Creting the dependent variable\n",
    "is_fraud=np.zeros(len(dataset))\n",
    "for i in range (len(dataset)):\n",
    "    if dataset.iloc[i,0] in frauds:#item in ith row first column\n",
    "#finds the id of all the frauds and compare it with all the id from the dataset\n",
    "#  if the id in the ith row of dataset is present in fraud then 1 else 0 \n",
    "        is_fraud[i]=1#this is output for ann\n",
    "\n",
    "customers.shape"
   ]
  },
  {
   "cell_type": "code",
   "execution_count": 29,
   "metadata": {},
   "outputs": [],
   "source": [
    "# Feature Scaling\n",
    "from sklearn.preprocessing import StandardScaler\n",
    "sc = StandardScaler()\n",
    "customers = sc.fit_transform(customers)"
   ]
  },
  {
   "cell_type": "code",
   "execution_count": 30,
   "metadata": {},
   "outputs": [
    {
     "name": "stdout",
     "output_type": "stream",
     "text": [
      "Epoch 1/4\n",
      "690/690 [==============================] - 1s 1ms/step - loss: 0.5029 - accuracy: 0.9217\n",
      "Epoch 2/4\n",
      "690/690 [==============================] - 1s 1ms/step - loss: 0.2295 - accuracy: 0.9217\n",
      "Epoch 3/4\n",
      "690/690 [==============================] - 1s 1ms/step - loss: 0.1639 - accuracy: 0.9217\n",
      "Epoch 4/4\n",
      "690/690 [==============================] - 1s 1ms/step - loss: 0.1382 - accuracy: 0.9217\n"
     ]
    },
    {
     "data": {
      "text/plain": [
       "<keras.callbacks.callbacks.History at 0x198e41f3488>"
      ]
     },
     "execution_count": 30,
     "metadata": {},
     "output_type": "execute_result"
    }
   ],
   "source": [
    "# Part 2 - Now let's make the ANN!\n",
    "\n",
    "# Importing the Keras libraries and packages\n",
    "import keras\n",
    "from keras.models import Sequential\n",
    "from keras.layers import Dense\n",
    "\n",
    "# Initialising the ANN\n",
    "classifier = Sequential()\n",
    "\n",
    "# Adding the input layer and the first hidden layer\n",
    "classifier.add(Dense(units = 2, kernel_initializer = 'uniform', activation = 'relu', input_dim = 15))\n",
    "\n",
    "# Adding the output layer\n",
    "classifier.add(Dense(units = 1, kernel_initializer = 'uniform', activation = 'sigmoid'))\n",
    "\n",
    "# Compiling the ANN\n",
    "classifier.compile(optimizer = 'adam', loss = 'binary_crossentropy', metrics = ['accuracy'])\n",
    "\n",
    "# Fitting the ANN to the Training set\n",
    "classifier.fit(customers, is_fraud, batch_size = 1, epochs = 4)\n"
   ]
  },
  {
   "cell_type": "markdown",
   "metadata": {},
   "source": [
    "###  *Predicting the probabilities of the Fraud*"
   ]
  },
  {
   "cell_type": "code",
   "execution_count": 36,
   "metadata": {},
   "outputs": [
    {
     "data": {
      "text/plain": [
       "array([[1.56214230e+07, 3.26335430e-05],\n",
       "       [1.57997850e+07, 1.74671412e-04],\n",
       "       [1.57063940e+07, 8.79138708e-04],\n",
       "       ...,\n",
       "       [1.57525780e+07, 3.67055535e-01],\n",
       "       [1.56099870e+07, 3.67055535e-01],\n",
       "       [1.56471910e+07, 3.67055535e-01]])"
      ]
     },
     "execution_count": 36,
     "metadata": {},
     "output_type": "execute_result"
    }
   ],
   "source": [
    "y_pred = classifier.predict(customers)\n",
    "y_pred=np.concatenate((dataset.iloc[:,0:1].values,y_pred),axis=1)\n",
    "y_pred=y_pred[y_pred[:,1].argsort()]\n",
    "y_pred"
   ]
  },
  {
   "cell_type": "code",
   "execution_count": null,
   "metadata": {},
   "outputs": [],
   "source": []
  }
 ],
 "metadata": {
  "kernelspec": {
   "display_name": "Python 3",
   "language": "python",
   "name": "python3"
  },
  "language_info": {
   "codemirror_mode": {
    "name": "ipython",
    "version": 3
   },
   "file_extension": ".py",
   "mimetype": "text/x-python",
   "name": "python",
   "nbconvert_exporter": "python",
   "pygments_lexer": "ipython3",
   "version": "3.7.7"
  }
 },
 "nbformat": 4,
 "nbformat_minor": 2
}
